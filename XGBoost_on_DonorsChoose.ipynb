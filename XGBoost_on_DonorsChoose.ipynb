{
  "cells": [
    {
      "cell_type": "markdown",
      "metadata": {
        "id": "8wqapAXjsc24"
      },
      "source": [
        "# GBDT on DonorsChoose"
      ]
    },
    {
      "cell_type": "markdown",
      "metadata": {
        "id": "VWge-b2Zsc3Z"
      },
      "source": [
        "## Loading Data"
      ]
    },
    {
      "cell_type": "code",
      "execution_count": null,
      "metadata": {
        "colab": {
          "base_uri": "https://localhost:8080/"
        },
        "id": "WDZFu6-usc3d",
        "outputId": "f461c43c-bfb3-48a2-ce14-a5df4d942d4b"
      },
      "outputs": [
        {
          "output_type": "stream",
          "name": "stderr",
          "text": [
            "[nltk_data] Downloading package vader_lexicon to /root/nltk_data...\n",
            "[nltk_data]   Package vader_lexicon is already up-to-date!\n"
          ]
        }
      ],
      "source": [
        "import pandas\n",
        "import numpy as np\n",
        "import scipy\n",
        "from scipy.sparse import hstack\n",
        "from sklearn.model_selection import train_test_split, learning_curve, GridSearchCV\n",
        "from sklearn.feature_extraction.text import TfidfVectorizer, CountVectorizer\n",
        "from xgboost import XGBClassifier\n",
        "from sklearn.metrics import roc_auc_score, roc_curve, auc, confusion_matrix\n",
        "from tqdm import tqdm\n",
        "import matplotlib.pyplot as plt\n",
        "import seaborn as sns\n",
        "from prettytable import PrettyTable\n",
        "import pickle\n",
        "import nltk\n",
        "from nltk.sentiment.vader import SentimentIntensityAnalyzer\n",
        "nltk.download('vader_lexicon')\n",
        "\n",
        "import warnings\n",
        "warnings.filterwarnings(\"ignore\")\n"
      ]
    },
    {
      "cell_type": "code",
      "execution_count": null,
      "metadata": {
        "colab": {
          "base_uri": "https://localhost:8080/",
          "height": 693
        },
        "id": "zZDz9fQeoi4K",
        "outputId": "f01afbd7-c635-495b-ae99-db5c1c2903a1"
      },
      "outputs": [
        {
          "output_type": "execute_result",
          "data": {
            "text/plain": [
              "  school_state teacher_prefix project_grade_category  \\\n",
              "0           ca            mrs          grades_prek_2   \n",
              "1           ut             ms             grades_3_5   \n",
              "2           ca            mrs          grades_prek_2   \n",
              "3           ga            mrs          grades_prek_2   \n",
              "4           wa            mrs             grades_3_5   \n",
              "\n",
              "   teacher_number_of_previously_posted_projects  project_is_approved  \\\n",
              "0                                            53                    1   \n",
              "1                                             4                    1   \n",
              "2                                            10                    1   \n",
              "3                                             2                    1   \n",
              "4                                             2                    1   \n",
              "\n",
              "    clean_categories                 clean_subcategories  \\\n",
              "0       math_science  appliedsciences health_lifescience   \n",
              "1       specialneeds                        specialneeds   \n",
              "2  literacy_language                            literacy   \n",
              "3    appliedlearning                    earlydevelopment   \n",
              "4  literacy_language                            literacy   \n",
              "\n",
              "                                               essay   price  \n",
              "0  i fortunate enough use fairy tale stem kits cl...  725.05  \n",
              "1  imagine 8 9 years old you third grade classroo...  213.03  \n",
              "2  having class 24 students comes diverse learner...  329.00  \n",
              "3  i recently read article giving students choice...  481.04  \n",
              "4  my students crave challenge eat obstacles brea...   17.74  "
            ],
            "text/html": [
              "\n",
              "  <div id=\"df-b42ed7ec-5c70-460d-bd44-60ad32d25f4e\">\n",
              "    <div class=\"colab-df-container\">\n",
              "      <div>\n",
              "<style scoped>\n",
              "    .dataframe tbody tr th:only-of-type {\n",
              "        vertical-align: middle;\n",
              "    }\n",
              "\n",
              "    .dataframe tbody tr th {\n",
              "        vertical-align: top;\n",
              "    }\n",
              "\n",
              "    .dataframe thead th {\n",
              "        text-align: right;\n",
              "    }\n",
              "</style>\n",
              "<table border=\"1\" class=\"dataframe\">\n",
              "  <thead>\n",
              "    <tr style=\"text-align: right;\">\n",
              "      <th></th>\n",
              "      <th>school_state</th>\n",
              "      <th>teacher_prefix</th>\n",
              "      <th>project_grade_category</th>\n",
              "      <th>teacher_number_of_previously_posted_projects</th>\n",
              "      <th>project_is_approved</th>\n",
              "      <th>clean_categories</th>\n",
              "      <th>clean_subcategories</th>\n",
              "      <th>essay</th>\n",
              "      <th>price</th>\n",
              "    </tr>\n",
              "  </thead>\n",
              "  <tbody>\n",
              "    <tr>\n",
              "      <th>0</th>\n",
              "      <td>ca</td>\n",
              "      <td>mrs</td>\n",
              "      <td>grades_prek_2</td>\n",
              "      <td>53</td>\n",
              "      <td>1</td>\n",
              "      <td>math_science</td>\n",
              "      <td>appliedsciences health_lifescience</td>\n",
              "      <td>i fortunate enough use fairy tale stem kits cl...</td>\n",
              "      <td>725.05</td>\n",
              "    </tr>\n",
              "    <tr>\n",
              "      <th>1</th>\n",
              "      <td>ut</td>\n",
              "      <td>ms</td>\n",
              "      <td>grades_3_5</td>\n",
              "      <td>4</td>\n",
              "      <td>1</td>\n",
              "      <td>specialneeds</td>\n",
              "      <td>specialneeds</td>\n",
              "      <td>imagine 8 9 years old you third grade classroo...</td>\n",
              "      <td>213.03</td>\n",
              "    </tr>\n",
              "    <tr>\n",
              "      <th>2</th>\n",
              "      <td>ca</td>\n",
              "      <td>mrs</td>\n",
              "      <td>grades_prek_2</td>\n",
              "      <td>10</td>\n",
              "      <td>1</td>\n",
              "      <td>literacy_language</td>\n",
              "      <td>literacy</td>\n",
              "      <td>having class 24 students comes diverse learner...</td>\n",
              "      <td>329.00</td>\n",
              "    </tr>\n",
              "    <tr>\n",
              "      <th>3</th>\n",
              "      <td>ga</td>\n",
              "      <td>mrs</td>\n",
              "      <td>grades_prek_2</td>\n",
              "      <td>2</td>\n",
              "      <td>1</td>\n",
              "      <td>appliedlearning</td>\n",
              "      <td>earlydevelopment</td>\n",
              "      <td>i recently read article giving students choice...</td>\n",
              "      <td>481.04</td>\n",
              "    </tr>\n",
              "    <tr>\n",
              "      <th>4</th>\n",
              "      <td>wa</td>\n",
              "      <td>mrs</td>\n",
              "      <td>grades_3_5</td>\n",
              "      <td>2</td>\n",
              "      <td>1</td>\n",
              "      <td>literacy_language</td>\n",
              "      <td>literacy</td>\n",
              "      <td>my students crave challenge eat obstacles brea...</td>\n",
              "      <td>17.74</td>\n",
              "    </tr>\n",
              "  </tbody>\n",
              "</table>\n",
              "</div>\n",
              "      <button class=\"colab-df-convert\" onclick=\"convertToInteractive('df-b42ed7ec-5c70-460d-bd44-60ad32d25f4e')\"\n",
              "              title=\"Convert this dataframe to an interactive table.\"\n",
              "              style=\"display:none;\">\n",
              "        \n",
              "  <svg xmlns=\"http://www.w3.org/2000/svg\" height=\"24px\"viewBox=\"0 0 24 24\"\n",
              "       width=\"24px\">\n",
              "    <path d=\"M0 0h24v24H0V0z\" fill=\"none\"/>\n",
              "    <path d=\"M18.56 5.44l.94 2.06.94-2.06 2.06-.94-2.06-.94-.94-2.06-.94 2.06-2.06.94zm-11 1L8.5 8.5l.94-2.06 2.06-.94-2.06-.94L8.5 2.5l-.94 2.06-2.06.94zm10 10l.94 2.06.94-2.06 2.06-.94-2.06-.94-.94-2.06-.94 2.06-2.06.94z\"/><path d=\"M17.41 7.96l-1.37-1.37c-.4-.4-.92-.59-1.43-.59-.52 0-1.04.2-1.43.59L10.3 9.45l-7.72 7.72c-.78.78-.78 2.05 0 2.83L4 21.41c.39.39.9.59 1.41.59.51 0 1.02-.2 1.41-.59l7.78-7.78 2.81-2.81c.8-.78.8-2.07 0-2.86zM5.41 20L4 18.59l7.72-7.72 1.47 1.35L5.41 20z\"/>\n",
              "  </svg>\n",
              "      </button>\n",
              "      \n",
              "  <style>\n",
              "    .colab-df-container {\n",
              "      display:flex;\n",
              "      flex-wrap:wrap;\n",
              "      gap: 12px;\n",
              "    }\n",
              "\n",
              "    .colab-df-convert {\n",
              "      background-color: #E8F0FE;\n",
              "      border: none;\n",
              "      border-radius: 50%;\n",
              "      cursor: pointer;\n",
              "      display: none;\n",
              "      fill: #1967D2;\n",
              "      height: 32px;\n",
              "      padding: 0 0 0 0;\n",
              "      width: 32px;\n",
              "    }\n",
              "\n",
              "    .colab-df-convert:hover {\n",
              "      background-color: #E2EBFA;\n",
              "      box-shadow: 0px 1px 2px rgba(60, 64, 67, 0.3), 0px 1px 3px 1px rgba(60, 64, 67, 0.15);\n",
              "      fill: #174EA6;\n",
              "    }\n",
              "\n",
              "    [theme=dark] .colab-df-convert {\n",
              "      background-color: #3B4455;\n",
              "      fill: #D2E3FC;\n",
              "    }\n",
              "\n",
              "    [theme=dark] .colab-df-convert:hover {\n",
              "      background-color: #434B5C;\n",
              "      box-shadow: 0px 1px 3px 1px rgba(0, 0, 0, 0.15);\n",
              "      filter: drop-shadow(0px 1px 2px rgba(0, 0, 0, 0.3));\n",
              "      fill: #FFFFFF;\n",
              "    }\n",
              "  </style>\n",
              "\n",
              "      <script>\n",
              "        const buttonEl =\n",
              "          document.querySelector('#df-b42ed7ec-5c70-460d-bd44-60ad32d25f4e button.colab-df-convert');\n",
              "        buttonEl.style.display =\n",
              "          google.colab.kernel.accessAllowed ? 'block' : 'none';\n",
              "\n",
              "        async function convertToInteractive(key) {\n",
              "          const element = document.querySelector('#df-b42ed7ec-5c70-460d-bd44-60ad32d25f4e');\n",
              "          const dataTable =\n",
              "            await google.colab.kernel.invokeFunction('convertToInteractive',\n",
              "                                                     [key], {});\n",
              "          if (!dataTable) return;\n",
              "\n",
              "          const docLinkHtml = 'Like what you see? Visit the ' +\n",
              "            '<a target=\"_blank\" href=https://colab.research.google.com/notebooks/data_table.ipynb>data table notebook</a>'\n",
              "            + ' to learn more about interactive tables.';\n",
              "          element.innerHTML = '';\n",
              "          dataTable['output_type'] = 'display_data';\n",
              "          await google.colab.output.renderOutput(dataTable, element);\n",
              "          const docLink = document.createElement('div');\n",
              "          docLink.innerHTML = docLinkHtml;\n",
              "          element.appendChild(docLink);\n",
              "        }\n",
              "      </script>\n",
              "    </div>\n",
              "  </div>\n",
              "  "
            ]
          },
          "metadata": {},
          "execution_count": 2
        }
      ],
      "source": [
        "data = pandas.read_csv('/content/preprocessed_data/preprocessed_data.csv', nrows = 35000)\n",
        "data.head(5)"
      ]
    },
    {
      "cell_type": "code",
      "execution_count": null,
      "metadata": {
        "colab": {
          "base_uri": "https://localhost:8080/"
        },
        "id": "EvzguM6XUhKi",
        "outputId": "d6a3f50d-d79a-4881-cb2d-4aaa000cd254"
      },
      "outputs": [
        {
          "output_type": "stream",
          "name": "stderr",
          "text": [
            "100%|██████████| 35000/35000 [01:49<00:00, 318.69it/s]\n"
          ]
        }
      ],
      "source": [
        "sid = SentimentIntensityAnalyzer()\n",
        "\n",
        "for essay in tqdm(data['essay']):\n",
        "    ss_1 = sid.polarity_scores(essay)\n",
        "    data['positive'] = ss_1['pos']\n",
        "    data['negative'] = ss_1['neg']\n",
        "    data['neutral'] = ss_1['neu']\n",
        "    data['compound'] = ss_1['compound']\n",
        "    "
      ]
    },
    {
      "cell_type": "markdown",
      "metadata": {
        "id": "6lAMFKFcsc3j"
      },
      "source": [
        "<h2>Splitting data into Train and cross validation(or test): Stratified Sampling</h2>"
      ]
    },
    {
      "cell_type": "code",
      "execution_count": null,
      "metadata": {
        "colab": {
          "base_uri": "https://localhost:8080/",
          "height": 710
        },
        "id": "ODMijuuNsc3l",
        "outputId": "0de188ae-6287-4670-e2b0-f812da0d99f0"
      },
      "outputs": [
        {
          "output_type": "execute_result",
          "data": {
            "text/plain": [
              "      school_state teacher_prefix project_grade_category  \\\n",
              "17563           mo             ms             grades_3_5   \n",
              "13340           wa             mr             grades_6_8   \n",
              "17144           pa             ms          grades_prek_2   \n",
              "1608            ok            mrs             grades_3_5   \n",
              "33283           tn            mrs             grades_3_5   \n",
              "\n",
              "       teacher_number_of_previously_posted_projects  project_is_approved  \\\n",
              "17563                                             0                    1   \n",
              "13340                                             0                    1   \n",
              "17144                                             0                    1   \n",
              "1608                                             76                    1   \n",
              "33283                                            13                    1   \n",
              "\n",
              "      clean_categories clean_subcategories  \\\n",
              "17563       music_arts               music   \n",
              "13340     specialneeds        specialneeds   \n",
              "17144  appliedlearning               other   \n",
              "1608      math_science         mathematics   \n",
              "33283    health_sports     health_wellness   \n",
              "\n",
              "                                                   essay   price  positive  \\\n",
              "17563  the students school face many challenges class...  269.95     0.292   \n",
              "13340  students receive special education services de...  593.81     0.292   \n",
              "17144  my students live rural woods adams county penn...    8.99     0.292   \n",
              "1608   my fourth grade teacher told must lifelong lea...  389.82     0.292   \n",
              "33283  my students active learn best moving they get ...   69.95     0.292   \n",
              "\n",
              "       negative  neutral  compound  \n",
              "17563     0.058     0.65    0.9808  \n",
              "13340     0.058     0.65    0.9808  \n",
              "17144     0.058     0.65    0.9808  \n",
              "1608      0.058     0.65    0.9808  \n",
              "33283     0.058     0.65    0.9808  "
            ],
            "text/html": [
              "\n",
              "  <div id=\"df-0ee81cc2-c7d7-415b-831d-1269c35ed35e\">\n",
              "    <div class=\"colab-df-container\">\n",
              "      <div>\n",
              "<style scoped>\n",
              "    .dataframe tbody tr th:only-of-type {\n",
              "        vertical-align: middle;\n",
              "    }\n",
              "\n",
              "    .dataframe tbody tr th {\n",
              "        vertical-align: top;\n",
              "    }\n",
              "\n",
              "    .dataframe thead th {\n",
              "        text-align: right;\n",
              "    }\n",
              "</style>\n",
              "<table border=\"1\" class=\"dataframe\">\n",
              "  <thead>\n",
              "    <tr style=\"text-align: right;\">\n",
              "      <th></th>\n",
              "      <th>school_state</th>\n",
              "      <th>teacher_prefix</th>\n",
              "      <th>project_grade_category</th>\n",
              "      <th>teacher_number_of_previously_posted_projects</th>\n",
              "      <th>project_is_approved</th>\n",
              "      <th>clean_categories</th>\n",
              "      <th>clean_subcategories</th>\n",
              "      <th>essay</th>\n",
              "      <th>price</th>\n",
              "      <th>positive</th>\n",
              "      <th>negative</th>\n",
              "      <th>neutral</th>\n",
              "      <th>compound</th>\n",
              "    </tr>\n",
              "  </thead>\n",
              "  <tbody>\n",
              "    <tr>\n",
              "      <th>17563</th>\n",
              "      <td>mo</td>\n",
              "      <td>ms</td>\n",
              "      <td>grades_3_5</td>\n",
              "      <td>0</td>\n",
              "      <td>1</td>\n",
              "      <td>music_arts</td>\n",
              "      <td>music</td>\n",
              "      <td>the students school face many challenges class...</td>\n",
              "      <td>269.95</td>\n",
              "      <td>0.292</td>\n",
              "      <td>0.058</td>\n",
              "      <td>0.65</td>\n",
              "      <td>0.9808</td>\n",
              "    </tr>\n",
              "    <tr>\n",
              "      <th>13340</th>\n",
              "      <td>wa</td>\n",
              "      <td>mr</td>\n",
              "      <td>grades_6_8</td>\n",
              "      <td>0</td>\n",
              "      <td>1</td>\n",
              "      <td>specialneeds</td>\n",
              "      <td>specialneeds</td>\n",
              "      <td>students receive special education services de...</td>\n",
              "      <td>593.81</td>\n",
              "      <td>0.292</td>\n",
              "      <td>0.058</td>\n",
              "      <td>0.65</td>\n",
              "      <td>0.9808</td>\n",
              "    </tr>\n",
              "    <tr>\n",
              "      <th>17144</th>\n",
              "      <td>pa</td>\n",
              "      <td>ms</td>\n",
              "      <td>grades_prek_2</td>\n",
              "      <td>0</td>\n",
              "      <td>1</td>\n",
              "      <td>appliedlearning</td>\n",
              "      <td>other</td>\n",
              "      <td>my students live rural woods adams county penn...</td>\n",
              "      <td>8.99</td>\n",
              "      <td>0.292</td>\n",
              "      <td>0.058</td>\n",
              "      <td>0.65</td>\n",
              "      <td>0.9808</td>\n",
              "    </tr>\n",
              "    <tr>\n",
              "      <th>1608</th>\n",
              "      <td>ok</td>\n",
              "      <td>mrs</td>\n",
              "      <td>grades_3_5</td>\n",
              "      <td>76</td>\n",
              "      <td>1</td>\n",
              "      <td>math_science</td>\n",
              "      <td>mathematics</td>\n",
              "      <td>my fourth grade teacher told must lifelong lea...</td>\n",
              "      <td>389.82</td>\n",
              "      <td>0.292</td>\n",
              "      <td>0.058</td>\n",
              "      <td>0.65</td>\n",
              "      <td>0.9808</td>\n",
              "    </tr>\n",
              "    <tr>\n",
              "      <th>33283</th>\n",
              "      <td>tn</td>\n",
              "      <td>mrs</td>\n",
              "      <td>grades_3_5</td>\n",
              "      <td>13</td>\n",
              "      <td>1</td>\n",
              "      <td>health_sports</td>\n",
              "      <td>health_wellness</td>\n",
              "      <td>my students active learn best moving they get ...</td>\n",
              "      <td>69.95</td>\n",
              "      <td>0.292</td>\n",
              "      <td>0.058</td>\n",
              "      <td>0.65</td>\n",
              "      <td>0.9808</td>\n",
              "    </tr>\n",
              "  </tbody>\n",
              "</table>\n",
              "</div>\n",
              "      <button class=\"colab-df-convert\" onclick=\"convertToInteractive('df-0ee81cc2-c7d7-415b-831d-1269c35ed35e')\"\n",
              "              title=\"Convert this dataframe to an interactive table.\"\n",
              "              style=\"display:none;\">\n",
              "        \n",
              "  <svg xmlns=\"http://www.w3.org/2000/svg\" height=\"24px\"viewBox=\"0 0 24 24\"\n",
              "       width=\"24px\">\n",
              "    <path d=\"M0 0h24v24H0V0z\" fill=\"none\"/>\n",
              "    <path d=\"M18.56 5.44l.94 2.06.94-2.06 2.06-.94-2.06-.94-.94-2.06-.94 2.06-2.06.94zm-11 1L8.5 8.5l.94-2.06 2.06-.94-2.06-.94L8.5 2.5l-.94 2.06-2.06.94zm10 10l.94 2.06.94-2.06 2.06-.94-2.06-.94-.94-2.06-.94 2.06-2.06.94z\"/><path d=\"M17.41 7.96l-1.37-1.37c-.4-.4-.92-.59-1.43-.59-.52 0-1.04.2-1.43.59L10.3 9.45l-7.72 7.72c-.78.78-.78 2.05 0 2.83L4 21.41c.39.39.9.59 1.41.59.51 0 1.02-.2 1.41-.59l7.78-7.78 2.81-2.81c.8-.78.8-2.07 0-2.86zM5.41 20L4 18.59l7.72-7.72 1.47 1.35L5.41 20z\"/>\n",
              "  </svg>\n",
              "      </button>\n",
              "      \n",
              "  <style>\n",
              "    .colab-df-container {\n",
              "      display:flex;\n",
              "      flex-wrap:wrap;\n",
              "      gap: 12px;\n",
              "    }\n",
              "\n",
              "    .colab-df-convert {\n",
              "      background-color: #E8F0FE;\n",
              "      border: none;\n",
              "      border-radius: 50%;\n",
              "      cursor: pointer;\n",
              "      display: none;\n",
              "      fill: #1967D2;\n",
              "      height: 32px;\n",
              "      padding: 0 0 0 0;\n",
              "      width: 32px;\n",
              "    }\n",
              "\n",
              "    .colab-df-convert:hover {\n",
              "      background-color: #E2EBFA;\n",
              "      box-shadow: 0px 1px 2px rgba(60, 64, 67, 0.3), 0px 1px 3px 1px rgba(60, 64, 67, 0.15);\n",
              "      fill: #174EA6;\n",
              "    }\n",
              "\n",
              "    [theme=dark] .colab-df-convert {\n",
              "      background-color: #3B4455;\n",
              "      fill: #D2E3FC;\n",
              "    }\n",
              "\n",
              "    [theme=dark] .colab-df-convert:hover {\n",
              "      background-color: #434B5C;\n",
              "      box-shadow: 0px 1px 3px 1px rgba(0, 0, 0, 0.15);\n",
              "      filter: drop-shadow(0px 1px 2px rgba(0, 0, 0, 0.3));\n",
              "      fill: #FFFFFF;\n",
              "    }\n",
              "  </style>\n",
              "\n",
              "      <script>\n",
              "        const buttonEl =\n",
              "          document.querySelector('#df-0ee81cc2-c7d7-415b-831d-1269c35ed35e button.colab-df-convert');\n",
              "        buttonEl.style.display =\n",
              "          google.colab.kernel.accessAllowed ? 'block' : 'none';\n",
              "\n",
              "        async function convertToInteractive(key) {\n",
              "          const element = document.querySelector('#df-0ee81cc2-c7d7-415b-831d-1269c35ed35e');\n",
              "          const dataTable =\n",
              "            await google.colab.kernel.invokeFunction('convertToInteractive',\n",
              "                                                     [key], {});\n",
              "          if (!dataTable) return;\n",
              "\n",
              "          const docLinkHtml = 'Like what you see? Visit the ' +\n",
              "            '<a target=\"_blank\" href=https://colab.research.google.com/notebooks/data_table.ipynb>data table notebook</a>'\n",
              "            + ' to learn more about interactive tables.';\n",
              "          element.innerHTML = '';\n",
              "          dataTable['output_type'] = 'display_data';\n",
              "          await google.colab.output.renderOutput(dataTable, element);\n",
              "          const docLink = document.createElement('div');\n",
              "          docLink.innerHTML = docLinkHtml;\n",
              "          element.appendChild(docLink);\n",
              "        }\n",
              "      </script>\n",
              "    </div>\n",
              "  </div>\n",
              "  "
            ]
          },
          "metadata": {},
          "execution_count": 5
        }
      ],
      "source": [
        "X_train, X_test, y_train, y_test = train_test_split(data, data['project_is_approved'], test_size=0.3, stratify = data['project_is_approved'])\n",
        "X_train.head(5)"
      ]
    },
    {
      "cell_type": "markdown",
      "metadata": {
        "id": "vsALgl5Asc3u"
      },
      "source": [
        "<h2>Make Data Model Ready: encoding essay, and project_title</h2>"
      ]
    },
    {
      "cell_type": "code",
      "execution_count": null,
      "metadata": {
        "colab": {
          "base_uri": "https://localhost:8080/"
        },
        "id": "1A_85jbWsc3v",
        "outputId": "f57c489e-6119-4dee-fccf-db813d9be2f8"
      },
      "outputs": [
        {
          "output_type": "stream",
          "name": "stdout",
          "text": [
            "After TF-IDF, train essay\n",
            "(24500, 6677)\n",
            "After vectorization, test essay\n",
            "(10500, 6677)\n"
          ]
        }
      ],
      "source": [
        "# encoding using TF-IDF\n",
        "tfidfvectorizer = TfidfVectorizer(min_df = 20)\n",
        "tfidfvectorizer.fit(X_train['essay'].values)\n",
        "\n",
        "tfidf_train_essay = tfidfvectorizer.transform(X_train['essay'].values)\n",
        "tfidf_test_essay = tfidfvectorizer.transform(X_test['essay'].values)\n",
        "\n",
        "essay_tfidf_features = tfidfvectorizer.get_feature_names_out()\n",
        "\n",
        "print('After TF-IDF, train essay')\n",
        "print(tfidf_train_essay.shape)\n",
        "\n",
        "print('After vectorization, test essay')\n",
        "print(tfidf_test_essay.shape)\n"
      ]
    },
    {
      "cell_type": "code",
      "execution_count": null,
      "metadata": {
        "id": "emjA2jDzq-lP"
      },
      "outputs": [],
      "source": [
        "with open('/content/glove_vectors/glove_vectors', 'rb') as f:\n",
        "    model = pickle.load(f)\n",
        "    glove_words =  set(model.keys())"
      ]
    },
    {
      "cell_type": "code",
      "execution_count": null,
      "metadata": {
        "colab": {
          "base_uri": "https://localhost:8080/"
        },
        "id": "aX1YVC_zq7gw",
        "outputId": "e4373cb2-eac4-4361-e8f8-1970255f1ad1"
      },
      "outputs": [
        {
          "output_type": "stream",
          "name": "stderr",
          "text": [
            "100%|██████████| 24500/24500 [00:59<00:00, 414.89it/s]\n"
          ]
        },
        {
          "output_type": "stream",
          "name": "stdout",
          "text": [
            "After TF-IDF W2V, train essay\n",
            "24500\n",
            "300\n"
          ]
        },
        {
          "output_type": "stream",
          "name": "stderr",
          "text": [
            "100%|██████████| 10500/10500 [00:24<00:00, 432.41it/s]"
          ]
        },
        {
          "output_type": "stream",
          "name": "stdout",
          "text": [
            "After TF-IDF W2V, test essay\n",
            "10500\n",
            "300\n"
          ]
        },
        {
          "output_type": "stream",
          "name": "stderr",
          "text": [
            "\n"
          ]
        }
      ],
      "source": [
        "# encoding using TF-IDF W2V\n",
        "\n",
        "tfidf = TfidfVectorizer()\n",
        "tfidf.fit(X_train['essay'])\n",
        "dictionary = dict(zip(tfidf.get_feature_names(), list(tfidf.idf_)))\n",
        "tfidf_words = set(tfidf.get_feature_names())\n",
        "\n",
        "tfidf_w2v_train_essay = []\n",
        "\n",
        "for sentence in tqdm(X_train['essay']):\n",
        "    vector = np.zeros(300)\n",
        "    tfidf_weight = 0\n",
        "    \n",
        "    for word in sentence.split():\n",
        "        if word in glove_words and word in tfidf_words:\n",
        "            vec = model[word]\n",
        "            tfidf_val = dictionary[word]*(sentence.count(word)/len(sentence.split())) # get TF-IDF value for word.\n",
        "            vector += (vec * tfidf_val)\n",
        "            tfidf_weight += tfidf_val\n",
        "    \n",
        "    if tfidf_weight != 0:\n",
        "        vec /= tfidf_weight\n",
        "    \n",
        "    tfidf_w2v_train_essay.append(vector)\n",
        "\n",
        "print('After TF-IDF W2V, train essay')\n",
        "print(len(tfidf_w2v_train_essay))\n",
        "print(len(tfidf_w2v_train_essay[0]))\n",
        "\n",
        "tfidf_w2v_test_essay = []\n",
        "\n",
        "for sentence in tqdm(X_test['essay']):\n",
        "    vector = np.zeros(300)\n",
        "    tfidf_weight = 0\n",
        "    \n",
        "    for word in sentence.split():\n",
        "        if word in glove_words and word in tfidf_words:\n",
        "            vec = model[word]\n",
        "            tfidf_val = dictionary[word]*(sentence.count(word)/len(sentence.split())) # get TF-IDF value for word.\n",
        "            vector += (vec * tfidf_val)\n",
        "            tfidf_weight += tfidf_val\n",
        "    \n",
        "    if tfidf_weight != 0:\n",
        "        vec /= tfidf_weight\n",
        "    \n",
        "    tfidf_w2v_test_essay.append(vector)\n",
        "\n",
        "print('After TF-IDF W2V, test essay')\n",
        "print(len(tfidf_w2v_test_essay))\n",
        "print(len(tfidf_w2v_test_essay[0]))"
      ]
    },
    {
      "cell_type": "markdown",
      "metadata": {
        "id": "S3Vxxv2Hsc31"
      },
      "source": [
        "<h2>Make Data Model Ready: encoding numerical, categorical features</h2>"
      ]
    },
    {
      "cell_type": "code",
      "execution_count": null,
      "metadata": {
        "colab": {
          "base_uri": "https://localhost:8080/"
        },
        "id": "RAtihVPqsc33",
        "outputId": "f5b73043-8f38-4635-b30c-f535259cd1c8"
      },
      "outputs": [
        {
          "output_type": "stream",
          "name": "stdout",
          "text": [
            "(24500, 1)\n",
            "(10500, 1)\n"
          ]
        }
      ],
      "source": [
        "# numerical features\n",
        "train_price = X_train['price'].values.reshape(-1, 1)\n",
        "test_price = X_test['price'].values.reshape(-1, 1)\n",
        "\n",
        "train_prev_projects = X_train['teacher_number_of_previously_posted_projects'].values.reshape(-1, 1)\n",
        "test_prev_projects = X_test['teacher_number_of_previously_posted_projects'].values.reshape(-1, 1)\n",
        "\n",
        "train_pos_score = X_train['positive'].values.reshape(-1, 1)\n",
        "print(train_pos_score.shape)\n",
        "train_neg_score = X_train['negative'].values.reshape(-1, 1)\n",
        "train_neu_score = X_train['neutral'].values.reshape(-1, 1)\n",
        "train_com_score = X_train['compound'].values.reshape(-1, 1)\n",
        "\n",
        "test_pos_score = X_test['positive'].values.reshape(-1, 1)\n",
        "print(test_pos_score.shape)\n",
        "test_neg_score = X_test['negative'].values.reshape(-1, 1)\n",
        "test_neu_score = X_test['neutral'].values.reshape(-1, 1)\n",
        "test_com_score = X_test['compound'].values.reshape(-1, 1)\n"
      ]
    },
    {
      "cell_type": "code",
      "execution_count": null,
      "metadata": {
        "id": "1NYdXHPvUhKl"
      },
      "outputs": [],
      "source": [
        "# categorical features\n",
        "# https://stackoverflow.com/questions/66122577/response-coding-for-categorical-data\n",
        "def getResponsetable(data, feature):\n",
        "    unique_values = data[feature].unique()\n",
        "    response_table_neg, response_table_pos = dict(), dict()\n",
        "    \n",
        "    for value in unique_values:\n",
        "        total = len(data.loc[(data[feature] == value)])\n",
        "        pos_count = len(data.loc[(data[feature] == value) & (data['project_is_approved'] == 1)])\n",
        "        neg_count = len(data.loc[(data[feature] == value) & (data['project_is_approved'] == 0)])\n",
        "        response_table_neg[value] = neg_count / (pos_count + neg_count)\n",
        "        response_table_pos[value] = pos_count / (pos_count + neg_count)\n",
        "        \n",
        "\n",
        "    return response_table_neg, response_table_pos"
      ]
    },
    {
      "cell_type": "code",
      "execution_count": null,
      "metadata": {
        "id": "PnF5V_2GUhKl"
      },
      "outputs": [],
      "source": [
        "# teacher_prefix, school_state, project_grade_category, clean_categories, clean_subcategories\n",
        "\n",
        "def createResponseCodedfeatures(data):\n",
        "    prefix_values_neg, prefix_values_pos = getResponsetable(data, 'teacher_prefix')\n",
        "    state_values_neg, state_values_pos = getResponsetable(data, 'school_state')\n",
        "    grade_values_neg, grade_values_pos = getResponsetable(data, 'project_grade_category')\n",
        "    category_values_neg, category_values_pos = getResponsetable(data, 'clean_categories')\n",
        "    subcategory_values_neg, subcategory_values_pos = getResponsetable(data, 'clean_subcategories')\n",
        "    \n",
        "    df = pandas.DataFrame()\n",
        "    \n",
        "    df['teacher_prefix_res_pos'] = data['teacher_prefix'].map(prefix_values_pos)\n",
        "    df['teacher_prefix_res_neg'] = data['teacher_prefix'].map(prefix_values_neg)\n",
        "    \n",
        "    df['school_state_res_pos'] = data['school_state'].map(state_values_pos)\n",
        "    df['school_state_res_neg'] = data['school_state'].map(state_values_neg)\n",
        "    \n",
        "    df['grade_category_res_pos'] = data['project_grade_category'].map(grade_values_pos)\n",
        "    df['grade_category_res_neg'] = data['project_grade_category'].map(grade_values_neg)\n",
        "    \n",
        "    df['clean_categories_res_pos'] = data['clean_categories'].map(category_values_pos)\n",
        "    df['clean_categories_res_neg'] = data['clean_categories'].map(category_values_neg)\n",
        "    \n",
        "    df['clean_subcategories_res_pos'] = data['clean_subcategories'].map(subcategory_values_pos)\n",
        "    df['clean_subcategories_res_neg'] = data['clean_subcategories'].map(subcategory_values_neg)\n",
        "    \n",
        "    return df"
      ]
    },
    {
      "cell_type": "code",
      "execution_count": null,
      "metadata": {
        "id": "Hwws-X1lUhKm"
      },
      "outputs": [],
      "source": [
        "# response code categorical features\n",
        "\n",
        "train_response_coded = createResponseCodedfeatures(X_train)\n",
        "test_response_coded = createResponseCodedfeatures(X_test)\n",
        "\n",
        "X = X_train.join(train_response_coded)"
      ]
    },
    {
      "cell_type": "markdown",
      "metadata": {
        "id": "kdkNNBf4VkQH"
      },
      "source": [
        "Combine features"
      ]
    },
    {
      "cell_type": "code",
      "execution_count": null,
      "metadata": {
        "id": "nl1pc3aTVmym"
      },
      "outputs": [],
      "source": [
        "X_train_1 = hstack((tfidf_train_essay, train_price, train_prev_projects, train_pos_score, train_neg_score, train_neu_score, train_com_score, train_response_coded))\n",
        "X_test_1 = hstack((tfidf_test_essay, test_price, test_prev_projects, test_pos_score, test_neg_score, test_neu_score, test_com_score, test_response_coded))\n"
      ]
    },
    {
      "cell_type": "code",
      "execution_count": null,
      "metadata": {
        "id": "jyO1IHZfVm7T"
      },
      "outputs": [],
      "source": [
        "tfidf_w2v_train_essay = scipy.sparse.csr_matrix(tfidf_w2v_train_essay)\n",
        "tfidf_w2v_test_essay = scipy.sparse.csr_matrix(tfidf_w2v_test_essay)\n",
        "X_train_2 = hstack((tfidf_w2v_train_essay, train_price, train_prev_projects, train_pos_score, train_neg_score, train_neu_score, train_com_score))\n",
        "X_test_2 = hstack((tfidf_w2v_test_essay, test_price, test_prev_projects, test_pos_score, test_neg_score, test_neu_score, test_com_score))"
      ]
    },
    {
      "cell_type": "markdown",
      "metadata": {
        "id": "I5wDFj17sc3-"
      },
      "source": [
        "<h2>Applying Models on different kind of featurization</h2>"
      ]
    },
    {
      "cell_type": "markdown",
      "metadata": {
        "id": "8XVaP3Gx9Gqf"
      },
      "source": [
        "XGBoost for response coded categorical features, numerical features and TF-IDF essays"
      ]
    },
    {
      "cell_type": "code",
      "execution_count": null,
      "metadata": {
        "id": "ARWulYUwsc4B",
        "colab": {
          "base_uri": "https://localhost:8080/"
        },
        "outputId": "4f7766f8-972b-48a5-9831-f6964940cdeb"
      },
      "outputs": [
        {
          "output_type": "execute_result",
          "data": {
            "text/plain": [
              "GridSearchCV(cv=3, estimator=XGBClassifier(class_weight='balanced', n_jobs=-1),\n",
              "             n_jobs=-1,\n",
              "             param_grid={'max_depth': [2, 3, 4, 5, 6],\n",
              "                         'n_estimators': [10, 50, 100, 150, 200]},\n",
              "             return_train_score=True, scoring='roc_auc')"
            ]
          },
          "metadata": {},
          "execution_count": 12
        }
      ],
      "source": [
        "xgb = XGBClassifier(class_weight = 'balanced', n_jobs = -1)\n",
        "params = {'n_estimators':[10, 50, 100, 150, 200], 'max_depth': [2, 3, 4, 5, 6]}\n",
        "\n",
        "clf = GridSearchCV(xgb, params, cv = 3, scoring = 'roc_auc', n_jobs = -1, return_train_score = True)\n",
        "clf.fit(X_train_1, y_train)"
      ]
    },
    {
      "cell_type": "code",
      "execution_count": null,
      "metadata": {
        "colab": {
          "base_uri": "https://localhost:8080/",
          "height": 514
        },
        "id": "fB8YHYkXUhKn",
        "outputId": "62f2c7b9-43f1-4bcd-91eb-5026eb78a42d"
      },
      "outputs": [
        {
          "output_type": "display_data",
          "data": {
            "text/plain": [
              "<Figure size 1440x576 with 4 Axes>"
            ],
            "image/png": "[encoded data removed]"
          },
          "metadata": {
            "needs_background": "light"
          }
        }
      ],
      "source": [
        "scores = pandas.DataFrame(clf.cv_results_).groupby(['param_n_estimators', 'param_max_depth']).max().unstack()[['mean_test_score', 'mean_train_score']]\n",
        "\n",
        "fig, ax = plt.subplots(1, 2, figsize = (20, 8))\n",
        "sns.heatmap(scores.mean_train_score, annot = True, fmt = '.4g', ax = ax[0])\n",
        "sns.heatmap(scores.mean_test_score, annot = True, fmt = '.4g', ax = ax[1])\n",
        "\n",
        "ax[0].set_title('Train set')\n",
        "ax[1].set_title('CV set')\n",
        "plt.show()"
      ]
    },
    {
      "cell_type": "code",
      "execution_count": null,
      "metadata": {
        "colab": {
          "base_uri": "https://localhost:8080/"
        },
        "id": "KgovZMQXUhKn",
        "outputId": "455c592c-5d36-48dd-8666-cfa0edbaaa3c"
      },
      "outputs": [
        {
          "output_type": "stream",
          "name": "stdout",
          "text": [
            "Best estimator: XGBClassifier(class_weight='balanced', max_depth=5, n_estimators=200, n_jobs=-1)\n",
            "Train score: 0.951635535710622\n",
            "Test score: 0.7556244932413205\n"
          ]
        }
      ],
      "source": [
        "print('Best estimator: ' + str(clf.best_estimator_))\n",
        "print('Train score: ' + str(clf.score(X_train_1, y_train)))\n",
        "print('Test score: ' + str(clf.score(X_test_1, y_test)))"
      ]
    },
    {
      "cell_type": "code",
      "execution_count": null,
      "metadata": {
        "colab": {
          "base_uri": "https://localhost:8080/"
        },
        "id": "It9kYBtXUhKn",
        "outputId": "d0892c02-c390-4386-bd42-8738608496d8"
      },
      "outputs": [
        {
          "output_type": "execute_result",
          "data": {
            "text/plain": [
              "GridSearchCV(cv=3, estimator=XGBClassifier(class_weight='balanced', n_jobs=-1),\n",
              "             n_jobs=-1, param_grid={'max_depth': [5], 'n_estimators': [200]},\n",
              "             return_train_score=True, scoring='roc_auc')"
            ]
          },
          "metadata": {},
          "execution_count": 16
        }
      ],
      "source": [
        "xgb_best = XGBClassifier(class_weight = 'balanced', n_jobs = -1)\n",
        "params = {'n_estimators':[200], 'max_depth': [5]}\n",
        "\n",
        "clf_best = GridSearchCV(xgb_best, params, cv = 3, scoring = 'roc_auc', n_jobs = -1, return_train_score = True)\n",
        "clf_best.fit(X_train_1, y_train)"
      ]
    },
    {
      "cell_type": "code",
      "execution_count": null,
      "metadata": {
        "colab": {
          "base_uri": "https://localhost:8080/",
          "height": 295
        },
        "id": "4n2mYslMUhKo",
        "outputId": "e4924fe5-958a-44cc-ae6f-f43a997d1ecc"
      },
      "outputs": [
        {
          "output_type": "display_data",
          "data": {
            "text/plain": [
              "<Figure size 432x288 with 1 Axes>"
            ],
            "image/png": "[encoded data removed]"
          },
          "metadata": {
            "needs_background": "light"
          }
        }
      ],
      "source": [
        "y_train_pred_1 = clf_best.predict_proba(X_train_1)[:, 1]\n",
        "y_test_pred_1 = clf_best.predict_proba(X_test_1)[:, 1]\n",
        "\n",
        "train_fpr_1, train_tpr_1, train_threshold_1 = roc_curve(y_train, y_train_pred_1)\n",
        "test_fpr_1, test_tpr_1, test_threshold_1 = roc_curve(y_test, y_test_pred_1)\n",
        "\n",
        "auc_1 = auc(test_fpr_1, test_tpr_1)\n",
        "\n",
        "plt.plot(train_fpr_1, train_tpr_1, label=\"Train AUC =\"+str(auc(train_fpr_1, train_tpr_1)))\n",
        "plt.plot(test_fpr_1, test_tpr_1, label=\"Test AUC =\"+str(auc(test_fpr_1, test_tpr_1)))\n",
        "plt.legend(prop = {'size': 10})\n",
        "plt.xlabel(\"FPR\")\n",
        "plt.ylabel(\"TPR\")\n",
        "plt.title(\"ROC Plot\")\n",
        "plt.grid()\n",
        "plt.show()"
      ]
    },
    {
      "cell_type": "code",
      "execution_count": null,
      "metadata": {
        "colab": {
          "base_uri": "https://localhost:8080/"
        },
        "id": "eEaVuQgUChxc",
        "outputId": "3be05444-4102-46f4-85d2-b40204a36b87"
      },
      "outputs": [
        {
          "output_type": "stream",
          "name": "stdout",
          "text": [
            "XGBClassifier(class_weight='balanced', max_depth=5, n_estimators=200, n_jobs=-1)\n"
          ]
        }
      ],
      "source": [
        "print(clf_best.best_estimator_)"
      ]
    },
    {
      "cell_type": "code",
      "execution_count": null,
      "metadata": {
        "colab": {
          "base_uri": "https://localhost:8080/",
          "height": 265
        },
        "id": "ejyHUMatUhKo",
        "outputId": "5a03a443-6c1a-4d0b-9c66-6f463f9bde66"
      },
      "outputs": [
        {
          "output_type": "display_data",
          "data": {
            "text/plain": [
              "<Figure size 432x288 with 2 Axes>"
            ],
            "image/png": "[encoded data removed]"
          },
          "metadata": {
            "needs_background": "light"
          }
        }
      ],
      "source": [
        "y_predicted_class = clf_best.predict(X_train_1)\n",
        "train_cm = pandas.DataFrame(confusion_matrix(y_train, y_predicted_class), range(2), range(2))\n",
        "train_cm.columns = ['Predicted No', 'Predicted Yes']\n",
        "train_cm.index = ['Actual No', 'Actual Yes']\n",
        "sns.heatmap(train_cm, annot = True, annot_kws = {'size': 16}, fmt = 'g')\n",
        "plt.show()"
      ]
    },
    {
      "cell_type": "markdown",
      "metadata": {
        "id": "wUoAqvw69QXB"
      },
      "source": [
        "XGBoost for response coded categorical features, numerical features and TF-IDF W2V essays"
      ]
    },
    {
      "cell_type": "code",
      "execution_count": null,
      "metadata": {
        "colab": {
          "base_uri": "https://localhost:8080/"
        },
        "id": "aHsfoqlEIwSu",
        "outputId": "d080fad5-51ef-4081-9fc1-7141d4799c55"
      },
      "outputs": [
        {
          "output_type": "execute_result",
          "data": {
            "text/plain": [
              "GridSearchCV(cv=3, estimator=XGBClassifier(class_weight='balanced', n_jobs=-1),\n",
              "             n_jobs=-1,\n",
              "             param_grid={'max_depth': [2, 3, 4, 5, 6],\n",
              "                         'n_estimators': [10, 50, 100, 150, 200]},\n",
              "             return_train_score=True, scoring='roc_auc')"
            ]
          },
          "metadata": {},
          "execution_count": 25
        }
      ],
      "source": [
        "xgb_1 = XGBClassifier(class_weight = 'balanced', n_jobs = -1)\n",
        "params = {'n_estimators':[10, 50, 100, 150, 200], 'max_depth': [2, 3, 4, 5, 6]}\n",
        "\n",
        "clf_1 = GridSearchCV(xgb_1, params, cv = 3, scoring = 'roc_auc', n_jobs = -1, return_train_score = True)\n",
        "clf_1.fit(X_train_2, y_train)"
      ]
    },
    {
      "cell_type": "code",
      "execution_count": null,
      "metadata": {
        "colab": {
          "base_uri": "https://localhost:8080/",
          "height": 514
        },
        "id": "mQAEHHaL7-bk",
        "outputId": "9b0d7cf2-3337-4d63-b6b3-255ed8af63e8"
      },
      "outputs": [
        {
          "output_type": "display_data",
          "data": {
            "text/plain": [
              "<Figure size 1440x576 with 4 Axes>"
            ],
            "image/png": "[encoded data removed]"
          },
          "metadata": {
            "needs_background": "light"
          }
        }
      ],
      "source": [
        "scores_1 = pandas.DataFrame(clf_1.cv_results_).groupby(['param_n_estimators', 'param_max_depth']).max().unstack()[['mean_test_score', 'mean_train_score']]\n",
        "\n",
        "fig, ax = plt.subplots(1, 2, figsize = (20, 8))\n",
        "sns.heatmap(scores_1.mean_train_score, annot = True, fmt = '.4g', ax = ax[0])\n",
        "sns.heatmap(scores_1.mean_test_score, annot = True, fmt = '.4g', ax = ax[1])\n",
        "\n",
        "ax[0].set_title('Train set')\n",
        "ax[1].set_title('CV set')\n",
        "plt.show()"
      ]
    },
    {
      "cell_type": "code",
      "execution_count": null,
      "metadata": {
        "colab": {
          "base_uri": "https://localhost:8080/"
        },
        "id": "cbKlL2r18L9h",
        "outputId": "73d64cf3-71ba-4bd8-cd75-97b54451035f"
      },
      "outputs": [
        {
          "output_type": "stream",
          "name": "stdout",
          "text": [
            "Best estimator: XGBClassifier(class_weight='balanced', n_estimators=150, n_jobs=-1)\n",
            "Train score: 0.820397737181723\n",
            "Test score: 0.6930464346849295\n"
          ]
        }
      ],
      "source": [
        "print('Best estimator: ' + str(clf_1.best_estimator_))\n",
        "print('Train score: ' + str(clf_1.score(X_train_2, y_train)))\n",
        "print('Test score: ' + str(clf_1.score(X_test_2, y_test)))"
      ]
    },
    {
      "cell_type": "code",
      "execution_count": null,
      "metadata": {
        "colab": {
          "base_uri": "https://localhost:8080/"
        },
        "id": "qE-AKgbD8YRL",
        "outputId": "df4f4274-d32c-4363-f91b-44a854ffe534"
      },
      "outputs": [
        {
          "output_type": "execute_result",
          "data": {
            "text/plain": [
              "GridSearchCV(cv=3, estimator=XGBClassifier(class_weight='balanced', n_jobs=-1),\n",
              "             n_jobs=-1, param_grid={'max_depth': [3], 'n_estimators': [150]},\n",
              "             return_train_score=True, scoring='roc_auc')"
            ]
          },
          "metadata": {},
          "execution_count": 28
        }
      ],
      "source": [
        "xgb_best_1 = XGBClassifier(class_weight = 'balanced', n_jobs = -1)\n",
        "params = {'n_estimators':[150], 'max_depth': [3]}\n",
        "\n",
        "clf_best_1 = GridSearchCV(xgb_best_1, params, cv = 3, scoring = 'roc_auc', n_jobs = -1, return_train_score = True)\n",
        "clf_best_1.fit(X_train_2, y_train)"
      ]
    },
    {
      "cell_type": "code",
      "execution_count": null,
      "metadata": {
        "colab": {
          "base_uri": "https://localhost:8080/",
          "height": 295
        },
        "id": "LkEJd_-A8lrM",
        "outputId": "5855b3ee-3365-409a-fc4a-7b8d26ab5faa"
      },
      "outputs": [
        {
          "output_type": "display_data",
          "data": {
            "text/plain": [
              "<Figure size 432x288 with 1 Axes>"
            ],
            "image/png": "[encoded data removed]"
          },
          "metadata": {
            "needs_background": "light"
          }
        }
      ],
      "source": [
        "y_train_pred_2 = clf_best_1.predict_proba(X_train_2)[:, 1]\n",
        "y_test_pred_2 = clf_best_1.predict_proba(X_test_2)[:, 1]\n",
        "\n",
        "train_fpr_2, train_tpr_2, train_threshold_2 = roc_curve(y_train, y_train_pred_2)\n",
        "test_fpr_2, test_tpr_2, test_threshold_2 = roc_curve(y_test, y_test_pred_2)\n",
        "\n",
        "auc_2 = auc(test_fpr_2, test_tpr_2)\n",
        "\n",
        "plt.plot(train_fpr_2, train_tpr_2, label=\"Train AUC =\"+str(auc(train_fpr_2, train_tpr_2)))\n",
        "plt.plot(test_fpr_2, test_tpr_2, label=\"Test AUC =\"+str(auc(test_fpr_2, test_tpr_2)))\n",
        "plt.legend(prop = {'size': 12})\n",
        "plt.xlabel(\"FPR\")\n",
        "plt.ylabel(\"TPR\")\n",
        "plt.title(\"ROC Plot\")\n",
        "plt.grid()\n",
        "plt.show()"
      ]
    },
    {
      "cell_type": "code",
      "execution_count": null,
      "metadata": {
        "colab": {
          "base_uri": "https://localhost:8080/",
          "height": 265
        },
        "id": "Iz9xxsT79294",
        "outputId": "bc50b4fa-1a0f-432b-b17a-792166208f80"
      },
      "outputs": [
        {
          "output_type": "display_data",
          "data": {
            "text/plain": [
              "<Figure size 432x288 with 2 Axes>"
            ],
            "image/png": "[encoded data removed]"
          },
          "metadata": {
            "needs_background": "light"
          }
        }
      ],
      "source": [
        "y_predicted_class = clf_best_1.predict(X_train_2)\n",
        "train_cm = pandas.DataFrame(confusion_matrix(y_train, y_predicted_class), range(2), range(2))\n",
        "train_cm.columns = ['Predicted No', 'Predicted Yes']\n",
        "train_cm.index = ['Actual No', 'Actual Yes']\n",
        "sns.heatmap(train_cm, annot = True, annot_kws = {'size': 16}, fmt = 'g')\n",
        "plt.show()"
      ]
    },
    {
      "cell_type": "markdown",
      "metadata": {
        "id": "YhFN-lDWsc4G"
      },
      "source": [
        "<h1>Summary</h1>\n"
      ]
    },
    {
      "cell_type": "code",
      "execution_count": null,
      "metadata": {
        "id": "qKuCCTHOUhKo",
        "colab": {
          "base_uri": "https://localhost:8080/"
        },
        "outputId": "b46d46c0-3f5b-4c13-e6c4-baaabe17b935"
      },
      "outputs": [
        {
          "output_type": "stream",
          "name": "stdout",
          "text": [
            "+---------------+---------+--------------+-----------+--------------------+\n",
            "| Vectorization |  Model  | n_estimators | max depth |        AUC         |\n",
            "+---------------+---------+--------------+-----------+--------------------+\n",
            "|     TF-IDF    | XGBoost |      5       |    200    | 0.7556244932413205 |\n",
            "|   TF-IDF W2V  | XGBoost |      3       |    150    | 0.6930464346849295 |\n",
            "+---------------+---------+--------------+-----------+--------------------+\n"
          ]
        }
      ],
      "source": [
        "grid = PrettyTable(['Vectorization', 'Model', 'n_estimators', 'max depth', 'AUC'])\n",
        "grid.add_row(['TF-IDF', 'XGBoost', clf_best.best_estimator_.max_depth, clf_best.best_estimator_.n_estimators, auc_1])\n",
        "grid.add_row(['TF-IDF W2V', 'XGBoost', clf_best_1.best_estimator_.max_depth, clf_best_1.best_estimator_.n_estimators, auc_2])\n",
        "print(grid)"
      ]
    }
  ],
  "metadata": {
    "colab": {
      "collapsed_sections": [],
      "name": "XGBoost on DonorsChoose.ipynb",
      "provenance": []
    },
    "kernelspec": {
      "display_name": "Python 3",
      "language": "python",
      "name": "python3"
    },
    "language_info": {
      "codemirror_mode": {
        "name": "ipython",
        "version": 3
      },
      "file_extension": ".py",
      "mimetype": "text/x-python",
      "name": "python",
      "nbconvert_exporter": "python",
      "pygments_lexer": "ipython3",
      "version": "3.9.5"
    }
  },
  "nbformat": 4,
  "nbformat_minor": 0
}